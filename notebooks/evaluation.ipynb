{
 "cells": [
  {
   "cell_type": "markdown",
   "metadata": {},
   "source": [
    "# Model Evaluation\n",
    "\n",
    "This notebook is used to evaluate the performance of the trained CNN model on the validation/test dataset."
   ]
  },
  {
   "cell_type": "code",
   "execution_count": 1,
   "metadata": {
    "id": "import-libraries"
   },
   "outputs": [],
   "source": [
    "# Import necessary libraries\n",
    "import numpy as np\n",
    "import matplotlib.pyplot as plt\n",
    "from src.utils.config import Config\n",
    "from src.models.cnn_model import CNNModel\n",
    "from src.training.evaluate import evaluate_model\n",
    "from src.data.dataset import FashionDataset\n",
    "\n",
    "# Load configuration settings\n",
    "config = Config()"
   ]
  },
  {
   "cell_type": "code",
   "execution_count": 2,
   "metadata": {
    "id": "load-dataset"
   },
   "outputs": [],
   "source": [
    "# Load the dataset\n",
    "test_dataset = FashionDataset(data_dir=config.test_data_dir, transform=config.test_transforms)\n",
    "test_loader = test_dataset.get_loader(batch_size=config.batch_size)\n"
   ]
  },
  {
   "cell_type": "code",
   "execution_count": 3,
   "metadata": {
    "id": "load-model"
   },
   "outputs": [],
   "source": [
    "# Load the trained model\n",
    "model = CNNModel(num_classes=config.num_classes)\n",
    "model.load_weights(config.model_weights_path)\n"
   ]
  },
  {
   "cell_type": "code",
   "execution_count": 4,
   "metadata": {
    "id": "evaluate"
   },
   "outputs": [],
   "source": [
    "# Evaluate the model\n",
    "accuracy, loss = evaluate_model(model, test_loader)\n",
    "print(f'Accuracy: {accuracy:.2f}')\n",
    "print(f'Loss: {loss:.2f}')"
   ]
  },
  {
   "cell_type": "code",
   "execution_count": 5,
   "metadata": {
    "id": "visualize-results"
   },
   "outputs": [],
   "source": [
    "# Visualize some predictions\n",
    "def visualize_predictions(model, data_loader, num_images=5):\n",
    "    model.eval()\n",
    "    images, labels = next(iter(data_loader))\n",
    "    outputs = model(images)\n",
    "    _, preds = torch.max(outputs, 1)\n",
    "    \n",
    "    plt.figure(figsize=(15, 5))\n",
    "    for i in range(num_images):\n",
    "        plt.subplot(1, num_images, i + 1)\n",
    "        plt.imshow(images[i].permute(1, 2, 0).numpy())\n",
    "        plt.title(f'Pred: {preds[i].item()}, True: {labels[i].item()}')\n",
    "        plt.axis('off')\n",
    "    plt.show()\n",
    "\n",
    "visualize_predictions(model, test_loader)"
   ]
  }
 ],
 "metadata": {
  "kernelspec": {
   "display_name": "Python 3",
   "language": "python",
   "name": "python3"
  },
  "language_info": {
   "codemirror_mode": {
    "name": "ipython",
    "version": 3
   },
   "file_extension": ".py",
   "mimetype": "text/x-python",
   "name": "python",
   "nbconvert_exporter": "python",
   "pygments_lexer": "ipython3",
   "version": "3.8.5"
  }
 },
 "nbformat": 4,
 "nbformat_minor": 4
}