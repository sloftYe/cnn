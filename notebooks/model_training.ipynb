{
 "cells": [
  {
   "cell_type": "markdown",
   "metadata": {},
   "source": [
    "# Model Training Notebook\n",
    "\n",
    "This notebook is used to train the CNN model for fashion classification using the dataset loaded from Google Drive."
   ]
  },
  {
   "cell_type": "code",
   "execution_count": 1,
   "metadata": {},
   "outputs": [],
   "source": [
    "# Import necessary libraries\n",
    "import os\n",
    "import numpy as np\n",
    "import tensorflow as tf\n",
    "from src.data.dataset import FashionDataset\n",
    "from src.models.cnn_model import CNNModel\n",
    "from src.training.train import train_model\n",
    "from src.utils.config import Config\n",
    "\n",
    "# Load configuration settings\n",
    "config = Config()\n",
    "\n",
    "# Load dataset\n",
    "train_dataset = FashionDataset(data_dir=config.data_dir, split='train')\n",
    "val_dataset = FashionDataset(data_dir=config.data_dir, split='val')\n",
    "\n",
    "# Initialize the model\n",
    "model = CNNModel(input_shape=(config.image_height, config.image_width, config.channels),\n",
    "                 num_classes=config.num_classes)\n",
    "\n",
    "# Train the model\n",
    "history = train_model(model, train_dataset, val_dataset, config)\n",
    "\n",
    "# Save the trained model\n",
    "model.save(os.path.join(config.model_dir, 'fashion_cnn_model.h5'))\n",
    "\n",
    "# Display training history\n",
    "import matplotlib.pyplot as plt\n",
    "\n",
    "plt.plot(history.history['accuracy'], label='accuracy')\n",
    "plt.plot(history.history['val_accuracy'], label='val_accuracy')\n",
    "plt.xlabel('Epoch')\n",
    "plt.ylabel('Accuracy')\n",
    "plt.legend(loc='lower right')\n",
    "plt.title('Model Accuracy')\n",
    "plt.show()"
   ]
  }
 ],
 "metadata": {
  "kernelspec": {
   "display_name": "Python 3",
   "language": "python",
   "name": "python3"
  },
  "language_info": {
   "codemirror_mode": {
    "name": "ipython",
    "version": 3
   },
   "file_extension": ".py",
   "mimetype": "text/x-python",
   "name": "python",
   "nbconvert_exporter": "python",
   "pygments_lexer": "ipython3",
   "version": "3.8.5"
  }
 },
 "nbformat": 4,
 "nbformat_minor": 4
}