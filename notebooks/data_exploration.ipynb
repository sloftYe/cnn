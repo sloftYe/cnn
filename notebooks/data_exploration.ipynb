{
 "cells": [
  {
   "cell_type": "markdown",
   "metadata": {},
   "source": [
    "# Data Exploration\n",
    "\n",
    "In this notebook, we will explore the fashion dataset to understand its structure, visualize some samples, and gather statistics."
   ]
  },
  {
   "cell_type": "code",
   "execution_count": 1,
   "metadata": {
    "id": "import-libraries"
   },
   "outputs": [],
   "source": [
    "# Import necessary libraries\n",
    "import pandas as pd\n",
    "import numpy as np\n",
    "import matplotlib.pyplot as plt\n",
    "import seaborn as sns\n",
    "import os\n",
    "from src.data.dataset import FashionDataset\n",
    "\n",
    "# Set the style for seaborn\n",
    "sns.set(style='whitegrid')"
   ]
  },
  {
   "cell_type": "code",
   "execution_count": 2,
   "metadata": {
    "id": "load-dataset"
   },
   "outputs": [],
   "source": [
    "# Load the dataset\n",
    "data_dir = '/content/drive/MyDrive/path_to_your_dataset/'  # Update this path\n",
    "fashion_data = FashionDataset(data_dir)\n",
    "\n",
    "# Display the first few samples\n",
    "fashion_data_df = fashion_data.load_data()  # Assuming load_data returns a DataFrame\n",
    "fashion_data_df.head()"
   ]
  },
  {
   "cell_type": "code",
   "execution_count": 3,
   "metadata": {
    "id": "visualize-samples"
   },
   "outputs": [],
   "source": [
    "# Visualize some samples from the dataset\n",
    "def visualize_samples(data, num_samples=5):\n",
    "    plt.figure(figsize=(15, 5))\n",
    "    for i in range(num_samples):\n",
    "        plt.subplot(1, num_samples, i + 1)\n",
    "        plt.imshow(data[i]['image'])  # Assuming each sample has an 'image' key\n",
    "        plt.title(data[i]['label'])  # Assuming each sample has a 'label' key\n",
    "        plt.axis('off')\n",
    "    plt.show()\n",
    "\n",
    "visualize_samples(fashion_data_df.sample(5).to_dict(orient='records'))"
   ]
  },
  {
   "cell_type": "code",
   "execution_count": 4,
   "metadata": {
    "id": "dataset-statistics"
   },
   "outputs": [],
   "source": [
    "# Gather statistics about the dataset\n",
    "def dataset_statistics(data):\n",
    "    print(f'Total samples: {len(data)}')\n",
    "    print(f'Classes: {data['label'].unique()}')\n",
    "    print(f'Class distribution:')\n",
    "    print(data['label'].value_counts())\n",
    "\n",
    "dataset_statistics(fashion_data_df)"
   ]
  },
  {
   "cell_type": "code",
   "execution_count": 5,
   "metadata": {
    "id": "class-distribution-plot"
   },
   "outputs": [],
   "source": [
    "# Plot class distribution\n",
    "plt.figure(figsize=(12, 6))\n",
    "sns.countplot(y='label', data=fashion_data_df, order=fashion_data_df['label'].value_counts().index)\n",
    "plt.title('Class Distribution')\n",
    "plt.xlabel('Number of Samples')\n",
    "plt.ylabel('Class')\n",
    "plt.show()"
   ]
  }
 ],
 "metadata": {
  "kernelspec": {
   "display_name": "Python 3",
   "language": "python",
   "name": "python3"
  },
  "language_info": {
   "codemirror_mode": {
    "name": "ipython",
    "version": 3
   },
   "file_extension": ".py",
   "mimetype": "text/x-python",
   "name": "python",
   "nbconvert_exporter": "python",
   "pygments_lexer": "ipython3",
   "version": "3.7.3"
  }
 },
 "nbformat": 4,
 "nbformat_minor": 2
}